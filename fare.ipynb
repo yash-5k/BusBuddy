{
 "cells": [
  {
   "cell_type": "code",
   "execution_count": 11,
   "id": "4c1a351f-13ed-47ff-bb04-6c1a2ab1e2e3",
   "metadata": {},
   "outputs": [
    {
     "name": "stdin",
     "output_type": "stream",
     "text": [
      "Enter Origin Stop Name:  golden point\n",
      "Enter Destination Stop Name:  railway station terminal\n"
     ]
    },
    {
     "name": "stdout",
     "output_type": "stream",
     "text": [
      "Predicted Fare for Child: 5.497102443278877\n",
      "Predicted Fare for Adult: 10.883240611353171\n"
     ]
    }
   ],
   "source": [
    "import pandas as pd\n",
    "from sklearn.linear_model import LinearRegression\n",
    "from sklearn.model_selection import train_test_split\n",
    "from sklearn.metrics import mean_absolute_error, mean_squared_error, r2_score\n",
    "from sklearn.preprocessing import OneHotEncoder\n",
    "from sklearn.compose import ColumnTransformer\n",
    "from sklearn.pipeline import Pipeline\n",
    "\n",
    "# Load your dataset\n",
    "file = pd.read_csv(r\"CDPG\\SURAT5.csv\")\n",
    "\n",
    "# Define categorical features and target\n",
    "categorical_features = ['originStopName', 'destinationStopName']\n",
    "other_features = ['travelDistance', 'stage']  # Optional features for training\n",
    "target = ['fareForChild', 'fareForAdult']\n",
    "\n",
    "# Prepare features and target variable\n",
    "X = file[categorical_features]\n",
    "y = file[target] \n",
    "\n",
    "# Preprocessor for categorical data\n",
    "preprocessor = ColumnTransformer(\n",
    "    transformers=[\n",
    "        ('cat', OneHotEncoder(handle_unknown='ignore'), categorical_features)\n",
    "    ]\n",
    ")\n",
    "\n",
    "# Split data into training and testing sets\n",
    "X_train, X_test, y_train, y_test = train_test_split(X, y, test_size=0.2, random_state=42)\n",
    "\n",
    "# Define the model pipeline with Linear Regression\n",
    "model = Pipeline(steps=[\n",
    "    ('preprocessor', preprocessor),\n",
    "    ('regressor', LinearRegression())\n",
    "])\n",
    "\n",
    "# Train the model\n",
    "model.fit(X_train, y_train)\n",
    "\n",
    "# Function to predict fare\n",
    "def predict_fare(origin, destination):\n",
    "    # Create a DataFrame for input\n",
    "    input_data = pd.DataFrame({\n",
    "        'originStopName': [origin],\n",
    "        'destinationStopName': [destination]\n",
    "    })\n",
    "\n",
    "    # Predict fares\n",
    "    prediction = model.predict(input_data)\n",
    "    return prediction[0][0], prediction[0][1]\n",
    "\n",
    "# Example prediction\n",
    "origin = input(\"Enter Origin Stop Name: \")\n",
    "destination = input(\"Enter Destination Stop Name: \")\n",
    "\n",
    "fare_for_child, fare_for_adult = predict_fare(origin, destination)\n",
    "print(f\"Predicted Fare for Child: {fare_for_child}\")\n",
    "print(f\"Predicted Fare for Adult: {fare_for_adult}\")\n"
   ]
  },
  {
   "cell_type": "code",
   "execution_count": 10,
   "id": "177b1331-849c-4782-a295-9fdabb34c7af",
   "metadata": {},
   "outputs": [
    {
     "name": "stdout",
     "output_type": "stream",
     "text": [
      "Model saved as fare_prediction_model.pkl\n"
     ]
    }
   ],
   "source": [
    "import pickle\n",
    "with open('fare_prediction_model.pkl', 'wb') as file:\n",
    "    pickle.dump(model, file)\n",
    "\n",
    "print(\"Model saved as fare_prediction_model.pkl\")\n"
   ]
  },
  {
   "cell_type": "code",
   "execution_count": null,
   "id": "46dca875-1e93-46ec-9e00-524137662cb8",
   "metadata": {},
   "outputs": [],
   "source": []
  }
 ],
 "metadata": {
  "kernelspec": {
   "display_name": "Python 3 (ipykernel)",
   "language": "python",
   "name": "python3"
  },
  "language_info": {
   "codemirror_mode": {
    "name": "ipython",
    "version": 3
   },
   "file_extension": ".py",
   "mimetype": "text/x-python",
   "name": "python",
   "nbconvert_exporter": "python",
   "pygments_lexer": "ipython3",
   "version": "3.12.4"
  }
 },
 "nbformat": 4,
 "nbformat_minor": 5
}
